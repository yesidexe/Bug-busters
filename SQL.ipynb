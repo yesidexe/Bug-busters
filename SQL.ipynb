{
 "cells": [
  {
   "cell_type": "markdown",
   "metadata": {},
   "source": [
    "> `COALESCE(expression1, expression2, ..., expressionN)` me devuelve la expresión final en caso de que ambos sean nulos, por ejemplo, `COALESCE(tabla1, tabla2, 'valor desconocido') as tabla_final`, en este caso si tabla1 es null, pero tabla 2 no, me pone el valor de tabla1, si ambos son nulos lo guarda como valor desconocido. Si se usa con una sola tabla es igual."
   ]
  },
  {
   "cell_type": "markdown",
   "metadata": {},
   "source": [
    "> `IFNULL(column_name, value_if_null)` funciona igual solo que es una sola tabla o expresión"
   ]
  },
  {
   "cell_type": "markdown",
   "metadata": {},
   "source": [
    "> Case en where\n",
    "```sql\n",
    "SELECT \n",
    "  actor, \n",
    "  character, \n",
    "  platform\n",
    "FROM marvel_avengers\n",
    "WHERE \n",
    "  CASE \n",
    "    WHEN platform = 'Instagram' THEN followers >= 500000\n",
    "    WHEN platform = 'Twitter' THEN followers >= 200000\n",
    "    ELSE followers >= 100000\n",
    "  END;\n",
    "```"
   ]
  },
  {
   "cell_type": "markdown",
   "metadata": {},
   "source": [
    "## Bugbuster"
   ]
  },
  {
   "cell_type": "markdown",
   "metadata": {},
   "source": [
    "Cuantos productos (únicos) tiene cada categoria"
   ]
  },
  {
   "cell_type": "markdown",
   "metadata": {},
   "source": [
    "```sql\n",
    "select category, count(DISTINCT product)\n",
    "from product_spend \n",
    "group by category\n",
    "```"
   ]
  },
  {
   "cell_type": "markdown",
   "metadata": {},
   "source": [
    "Usar case, para los actores con tantos likes crear una columna llamada popularity que me los categorice como super likes, good likes y low likes."
   ]
  },
  {
   "cell_type": "markdown",
   "metadata": {},
   "source": [
    "```sql\n",
    "select actor, character, platform, avg_likes,\n",
    "CASE\n",
    "  when avg_likes >= 15000 then 'Super Likes'\n",
    "  when avg_likes between 5000 and 14999 then 'Good Likes'\n",
    "  else 'Low Likes'\n",
    "end as popularity\n",
    "from marvel_avengers\n",
    "order by avg_likes desc\n",
    "```"
   ]
  },
  {
   "cell_type": "markdown",
   "metadata": {},
   "source": [
    "productos por categoria"
   ]
  },
  {
   "cell_type": "markdown",
   "metadata": {},
   "source": [
    "```sql\n",
    "select category, count(DISTINCT product)\n",
    "from product_spend \n",
    "group by category\n",
    "```"
   ]
  },
  {
   "cell_type": "markdown",
   "metadata": {},
   "source": [
    "top 3 del total de ordenes por ciudad, donde el status de la orden esté completo"
   ]
  },
  {
   "cell_type": "markdown",
   "metadata": {},
   "source": [
    "```sql\n",
    "select users.city, count(status) as total_orders\n",
    "from trades\n",
    "join users on trades.user_id = users.user_id\n",
    "where status = 'Completed'\n",
    "group by users.city\n",
    "order by total_orders desc\n",
    "limit 3\n",
    "```"
   ]
  },
  {
   "cell_type": "markdown",
   "metadata": {},
   "source": [
    "Escribe una consulta que devuelva los ID de las páginas de Facebook que tienen cero me gusta. La salida debe estar ordenada de forma ascendente en función de los ID de página. (Los **page_id** que salen en la tabla **pages** no salen en la tabla **page_likes** si no se registran likes, entonces al unir con el join esas filas quedan vacias, usamos el where para filtrar las de donde la tabla page_likes sea null)"
   ]
  },
  {
   "cell_type": "markdown",
   "metadata": {},
   "source": [
    "```sql\n",
    "SELECT pages.page_id FROM pages\n",
    "left join page_likes on pages.page_id = page_likes.page_id\n",
    "where page_likes is NULL\n",
    "order by page_id asc\n",
    "```"
   ]
  },
  {
   "cell_type": "markdown",
   "metadata": {},
   "source": [
    "Dadas dos tablas, advertiser (con información de anunciantes y su estado de pago) y daily_pay (que solo contiene registros de pagos recientes), se requiere una consulta SQL para actualizar el estado de pago de los anunciantes. El estado puede ser NEW, EXISTING, CHURN o RESURRECT, dependiendo de si han realizado pagos previamente y si hicieron un pago reciente. La salida debe mostrar el user_id y su nuevo estado, ordenados por user_id."
   ]
  },
  {
   "cell_type": "markdown",
   "metadata": {},
   "source": [
    "```sql\n",
    "SELECT \n",
    "  COALESCE(advertiser.user_id, daily_pay.user_id) as user_id,\n",
    "  CASE\n",
    "    WHEN paid is null then 'CHURN'\n",
    "    when paid is not null and status IN('EXISTING','NEW','RESURRECT') then 'EXISTING'\n",
    "    when paid is not null and status = 'CHURN' then 'RESURRECT'\n",
    "    else 'NEW'\n",
    "  end as \"new_status\"\n",
    "FROM advertiser\n",
    "full outer join daily_pay on daily_pay.user_id = advertiser.user_id\n",
    "order by user_id\n",
    "```"
   ]
  },
  {
   "cell_type": "markdown",
   "metadata": {},
   "source": [
    "Para los usuarios que han posteado al menos una vez, escribir una query que encuentre el número de dias entre la primera publicación y la última, en el año 2021."
   ]
  },
  {
   "cell_type": "markdown",
   "metadata": {},
   "source": [
    "```sql\n",
    "SELECT user_id,\n",
    "EXTRACT(DAY FROM max(post_date) - min(post_date)) as days_between\n",
    "from posts\n",
    "where extract(year from post_date) = 2021\n",
    "group by user_id\n",
    "having count(user_id) >= 2\n",
    "```"
   ]
  },
  {
   "cell_type": "markdown",
   "metadata": {},
   "source": [
    "Escribir un query que me muestre el id de los usuarios que confirmaron el email el siguiente dia y no el mismo dia."
   ]
  },
  {
   "cell_type": "markdown",
   "metadata": {},
   "source": [
    "```sql\n",
    "SELECT user_id FROM emails\n",
    "left join texts on texts.email_id=emails.email_id\n",
    "where action_date = signup_date + INTERVAL '1 day'\n",
    "```"
   ]
  }
 ],
 "metadata": {
  "kernelspec": {
   "display_name": "Betrmedia_App",
   "language": "python",
   "name": "python3"
  },
  "language_info": {
   "name": "python",
   "version": "-1.-1.-1"
  }
 },
 "nbformat": 4,
 "nbformat_minor": 2
}
