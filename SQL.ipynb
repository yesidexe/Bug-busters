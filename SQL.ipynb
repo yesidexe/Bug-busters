{
 "cells": [
  {
   "cell_type": "markdown",
   "metadata": {},
   "source": [
    "## Bugbuster"
   ]
  },
  {
   "cell_type": "markdown",
   "metadata": {},
   "source": [
    "Cuantos productos (únicos) tiene cada categoria"
   ]
  },
  {
   "cell_type": "code",
   "execution_count": null,
   "metadata": {
    "vscode": {
     "languageId": "sql"
    }
   },
   "outputs": [],
   "source": [
    "select category, count(DISTINCT product)\n",
    "from product_spend \n",
    "group by category"
   ]
  },
  {
   "cell_type": "markdown",
   "metadata": {},
   "source": [
    "Usar case, para los actores con tantos likes crear una columna llamada popularity que me los categorice como super likes, good likes y low likes."
   ]
  },
  {
   "cell_type": "code",
   "execution_count": null,
   "metadata": {
    "vscode": {
     "languageId": "sql"
    }
   },
   "outputs": [],
   "source": [
    "select actor, character, platform, avg_likes,\n",
    "CASE\n",
    "  when avg_likes >= 15000 then 'Super Likes'\n",
    "  when avg_likes between 5000 and 14999 then 'Good Likes'\n",
    "  else 'Low Likes'\n",
    "end as popularity\n",
    "from marvel_avengers\n",
    "order by avg_likes desc"
   ]
  },
  {
   "cell_type": "markdown",
   "metadata": {},
   "source": [
    "productos por categoria"
   ]
  },
  {
   "cell_type": "code",
   "execution_count": null,
   "metadata": {
    "vscode": {
     "languageId": "sql"
    }
   },
   "outputs": [],
   "source": [
    "select category, count(DISTINCT product)\n",
    "from product_spend \n",
    "group by category"
   ]
  },
  {
   "cell_type": "markdown",
   "metadata": {},
   "source": [
    "top 3 del total de ordenes por ciudad, donde el status de la orden esté completo"
   ]
  },
  {
   "cell_type": "code",
   "execution_count": null,
   "metadata": {
    "vscode": {
     "languageId": "sql"
    }
   },
   "outputs": [],
   "source": [
    "select users.city, count(status) as total_orders\n",
    "from trades\n",
    "join users on trades.user_id = users.user_id\n",
    "where status = 'Completed'\n",
    "group by users.city\n",
    "order by total_orders desc\n",
    "limit 3"
   ]
  },
  {
   "cell_type": "markdown",
   "metadata": {},
   "source": [
    "Escribe una consulta que devuelva los ID de las páginas de Facebook que tienen cero me gusta. La salida debe estar ordenada de forma ascendente en función de los ID de página. (Los **page_id** que salen en la tabla **pages** no salen en la tabla **page_likes** si no se registran likes, entonces al unir con el join esas filas quedan vacias, usamos el where para filtrar las de donde la tabla page_likes sea null)"
   ]
  },
  {
   "cell_type": "code",
   "execution_count": null,
   "metadata": {
    "vscode": {
     "languageId": "sql"
    }
   },
   "outputs": [],
   "source": [
    "SELECT pages.page_id FROM pages\n",
    "left join page_likes on pages.page_id = page_likes.page_id\n",
    "where page_likes is NULL\n",
    "order by page_id asc"
   ]
  },
  {
   "cell_type": "markdown",
   "metadata": {},
   "source": [
    "Dadas dos tablas, advertiser (con información de anunciantes y su estado de pago) y daily_pay (que solo contiene registros de pagos recientes), se requiere una consulta SQL para actualizar el estado de pago de los anunciantes. El estado puede ser NEW, EXISTING, CHURN o RESURRECT, dependiendo de si han realizado pagos previamente y si hicieron un pago reciente. La salida debe mostrar el user_id y su nuevo estado, ordenados por user_id."
   ]
  },
  {
   "cell_type": "code",
   "execution_count": null,
   "metadata": {
    "vscode": {
     "languageId": "sql"
    }
   },
   "outputs": [],
   "source": [
    "SELECT \n",
    "  COALESCE(advertiser.user_id, daily_pay.user_id) as user_id,\n",
    "  CASE\n",
    "    WHEN paid is null then 'CHURN'\n",
    "    when paid is not null and status IN('EXISTING','NEW','RESURRECT') then 'EXISTING'\n",
    "    when paid is not null and status = 'CHURN' then 'RESURRECT'\n",
    "    else 'NEW'\n",
    "  end as \"new_status\"\n",
    "FROM advertiser\n",
    "full outer join daily_pay on daily_pay.user_id = advertiser.user_id\n",
    "order by user_id"
   ]
  },
  {
   "cell_type": "markdown",
   "metadata": {},
   "source": [
    "Para los usuarios que han posteado al menos una vez, escribir una query que encuentre el número de dias entre la primera publicación y la última, en el año 2021."
   ]
  },
  {
   "cell_type": "code",
   "execution_count": null,
   "metadata": {
    "vscode": {
     "languageId": "sql"
    }
   },
   "outputs": [],
   "source": [
    "SELECT user_id,\n",
    "EXTRACT(DAY FROM max(post_date) - min(post_date)) as days_between\n",
    "from posts\n",
    "where extract(year from post_date) = 2021\n",
    "group by user_id\n",
    "having count(user_id) >= 2"
   ]
  },
  {
   "cell_type": "markdown",
   "metadata": {},
   "source": [
    "Escribir un query que me muestre el id de los usuarios que confirmaron el email el siguiente dia y no el mismo dia."
   ]
  },
  {
   "cell_type": "code",
   "execution_count": null,
   "metadata": {
    "vscode": {
     "languageId": "sql"
    }
   },
   "outputs": [],
   "source": [
    "SELECT user_id FROM emails\n",
    "left join texts on texts.email_id=emails.email_id\n",
    "where action_date = signup_date + INTERVAL '1 day'"
   ]
  }
 ],
 "metadata": {
  "kernelspec": {
   "display_name": "env",
   "language": "python",
   "name": "python3"
  },
  "language_info": {
   "codemirror_mode": {
    "name": "ipython",
    "version": 3
   },
   "file_extension": ".py",
   "mimetype": "text/x-python",
   "name": "python",
   "nbconvert_exporter": "python",
   "pygments_lexer": "ipython3",
   "version": "3.11.9"
  }
 },
 "nbformat": 4,
 "nbformat_minor": 2
}
