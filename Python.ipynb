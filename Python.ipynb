{
 "cells": [
  {
   "cell_type": "markdown",
   "metadata": {},
   "source": [
    "## Easy"
   ]
  },
  {
   "cell_type": "markdown",
   "metadata": {},
   "source": [
    "### Find a string"
   ]
  },
  {
   "cell_type": "markdown",
   "metadata": {},
   "source": [
    "[Problema](https://www.hackerrank.com/challenges/find-a-string/problem): Encontrar cuantas se repite el substring en el string (No pude hacerlo solo ❌)"
   ]
  },
  {
   "cell_type": "code",
   "execution_count": 2,
   "metadata": {},
   "outputs": [
    {
     "data": {
      "text/plain": [
       "1"
      ]
     },
     "execution_count": 2,
     "metadata": {},
     "output_type": "execute_result"
    }
   ],
   "source": [
    "# usar find, si find es -1 significa que no hay\n",
    "def count_substring(string, substring):\n",
    "    count = 0    \n",
    "    for pos, char in enumerate(string):\n",
    "        if char==substring[0] and string[pos:pos+len(substring)] == substring:\n",
    "            count += 1\n",
    "    return count\n",
    "\n",
    "count_substring('I am an Indian, by birth.', 'birth')"
   ]
  },
  {
   "cell_type": "markdown",
   "metadata": {},
   "source": [
    "### String Validators"
   ]
  },
  {
   "cell_type": "markdown",
   "metadata": {},
   "source": [
    "[Problema](https://www.hackerrank.com/challenges/string-validators/problem): Que me muestre si s contiene algun caracter que coincida con si es alnum, alpha, digit, lower o upper."
   ]
  },
  {
   "cell_type": "code",
   "execution_count": 3,
   "metadata": {},
   "outputs": [
    {
     "name": "stdout",
     "output_type": "stream",
     "text": [
      "True\n",
      "True\n",
      "True\n",
      "True\n",
      "True\n"
     ]
    }
   ],
   "source": [
    "s = 'qA2'\n",
    "\n",
    "print(any(char.isalnum() for char in list(s)))\n",
    "print(any(char.isalpha() for char in list(s)))\n",
    "print(any(char.isdigit() for char in list(s)))\n",
    "print(any(char.islower() for char in list(s)))\n",
    "print(any(char.isupper() for char in list(s)))"
   ]
  },
  {
   "cell_type": "markdown",
   "metadata": {},
   "source": [
    "### Text Alignment"
   ]
  },
  {
   "cell_type": "markdown",
   "metadata": {},
   "source": [
    "[Problema](https://www.hackerrank.com/challenges/text-alignment/problem): no entendí esto, solo cambié unas cosas."
   ]
  },
  {
   "cell_type": "code",
   "execution_count": 4,
   "metadata": {},
   "outputs": [
    {
     "name": "stdout",
     "output_type": "stream",
     "text": [
      "     H     \n",
      "    HHH    \n",
      "   HHHHH   \n",
      "  HHHHHHH  \n",
      " HHHHHHHHH \n",
      "HHHHHHHHHHH\n",
      "   HHHHHH                  HHHHHH               \n",
      "   HHHHHH                  HHHHHH               \n",
      "   HHHHHH                  HHHHHH               \n",
      "   HHHHHH                  HHHHHH               \n",
      "   HHHHHH                  HHHHHH               \n",
      "   HHHHHH                  HHHHHH               \n",
      "   HHHHHH                  HHHHHH               \n",
      "   HHHHHHHHHHHHHHHHHHHHHHHHHHHHHH   \n",
      "   HHHHHHHHHHHHHHHHHHHHHHHHHHHHHH   \n",
      "   HHHHHHHHHHHHHHHHHHHHHHHHHHHHHH   \n",
      "   HHHHHH                  HHHHHH               \n",
      "   HHHHHH                  HHHHHH               \n",
      "   HHHHHH                  HHHHHH               \n",
      "   HHHHHH                  HHHHHH               \n",
      "   HHHHHH                  HHHHHH               \n",
      "   HHHHHH                  HHHHHH               \n",
      "   HHHHHH                  HHHHHH               \n",
      "                        HHHHHHHHHHH \n",
      "                         HHHHHHHHH  \n",
      "                          HHHHHHH   \n",
      "                           HHHHH    \n",
      "                            HHH     \n",
      "                             H      \n"
     ]
    }
   ],
   "source": [
    "#Replace all ______ with rjust, ljust or center. \n",
    "\n",
    "thickness = int(6) #This must be an odd number\n",
    "c = 'H'\n",
    "\n",
    "#Top Cone\n",
    "for i in range(thickness):\n",
    "    print((c*i).rjust(thickness-1)+c+(c*i).ljust(thickness-1))\n",
    "\n",
    "#Top Pillars\n",
    "for i in range(thickness+1):\n",
    "    print((c*thickness).center(thickness*2)+(c*thickness).center(thickness*6))\n",
    "\n",
    "#Middle Belt\n",
    "for i in range((thickness+1)//2):\n",
    "    print((c*thickness*5).center(thickness*6))    \n",
    "\n",
    "#Bottom Pillars\n",
    "for i in range(thickness+1):\n",
    "    print((c*thickness).center(thickness*2)+(c*thickness).center(thickness*6))    \n",
    "\n",
    "#Bottom Cone\n",
    "for i in range(thickness):\n",
    "    print(((c*(thickness-i-1)).rjust(thickness)+c+(c*(thickness-i-1)).ljust(thickness)).rjust(thickness*6))"
   ]
  },
  {
   "cell_type": "markdown",
   "metadata": {},
   "source": [
    "### Text wrap"
   ]
  },
  {
   "cell_type": "markdown",
   "metadata": {},
   "source": [
    "[Problema](https://www.hackerrank.com/challenges/text-wrap/problem): La idea es ponerle un enter, o un \\n cada ciertos caracteres, afortunadamente la libreria textwrap ayuda en esto. "
   ]
  },
  {
   "cell_type": "code",
   "execution_count": 6,
   "metadata": {},
   "outputs": [
    {
     "data": {
      "text/plain": [
       "'ABCD\\nEFGH\\nIJKL\\nIMNO\\nQRST\\nUVWX\\nYZ'"
      ]
     },
     "execution_count": 6,
     "metadata": {},
     "output_type": "execute_result"
    }
   ],
   "source": [
    "import textwrap\n",
    "\n",
    "def wrap(string, max_width):\n",
    "    wrapped_text = textwrap.fill(string, width=max_width)\n",
    "    return wrapped_text\n",
    "\n",
    "wrap('ABCDEFGHIJKLIMNOQRSTUVWXYZ', 4)"
   ]
  },
  {
   "cell_type": "markdown",
   "metadata": {},
   "source": [
    "### Designer Door Mat"
   ]
  },
  {
   "cell_type": "markdown",
   "metadata": {},
   "source": [
    "[Problema](https://www.hackerrank.com/challenges/designer-door-mat/problem): "
   ]
  }
 ],
 "metadata": {
  "kernelspec": {
   "display_name": "env",
   "language": "python",
   "name": "python3"
  },
  "language_info": {
   "codemirror_mode": {
    "name": "ipython",
    "version": 3
   },
   "file_extension": ".py",
   "mimetype": "text/x-python",
   "name": "python",
   "nbconvert_exporter": "python",
   "pygments_lexer": "ipython3",
   "version": "3.11.9"
  }
 },
 "nbformat": 4,
 "nbformat_minor": 2
}
